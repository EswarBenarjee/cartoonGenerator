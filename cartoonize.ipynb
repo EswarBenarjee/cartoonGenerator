{
 "cells": [
  {
   "cell_type": "code",
   "execution_count": 1,
   "id": "25c34ce5",
   "metadata": {},
   "outputs": [
    {
     "name": "stdout",
     "output_type": "stream",
     "text": [
      "Please enter your path: C:/Users/eswar/Documents/Projects/Cartoons/images/\n"
     ]
    }
   ],
   "source": [
    "mypath = input(\"Please enter your path: \")"
   ]
  },
  {
   "cell_type": "code",
   "execution_count": 2,
   "id": "5dbf7c81",
   "metadata": {},
   "outputs": [],
   "source": [
    "#Importing libraries.\n",
    "\n",
    "#Importing OS, used for saving files and changing file directories\n",
    "from os import listdir\n",
    "from os.path import isfile, join\n",
    "\n",
    "# Importing PIL, used for all Image data manipulation purposes\n",
    "from PIL import Image\n",
    "import os\n",
    "import PIL\n",
    "import glob\n",
    "from PIL import Image"
   ]
  },
  {
   "cell_type": "code",
   "execution_count": 3,
   "id": "3dc23655",
   "metadata": {},
   "outputs": [
    {
     "name": "stdout",
     "output_type": "stream",
     "text": [
      "['Eswar.jpg']\n"
     ]
    }
   ],
   "source": [
    "# List all the files in the images folder\n",
    "\n",
    "onlyfiles = [f for f in listdir(mypath) if isfile(join(mypath, f))]\n",
    "print(onlyfiles)"
   ]
  },
  {
   "cell_type": "code",
   "execution_count": 4,
   "id": "f6e4746f",
   "metadata": {},
   "outputs": [],
   "source": [
    "import cv2\n",
    "import numpy as np\n",
    "import matplotlib.pyplot as plt"
   ]
  },
  {
   "cell_type": "code",
   "execution_count": null,
   "id": "5e602c49",
   "metadata": {},
   "outputs": [
    {
     "name": "stdout",
     "output_type": "stream",
     "text": [
      "Saved Eswar.jpg\n"
     ]
    }
   ],
   "source": [
    "for i in onlyfiles:\n",
    "    img = mypath+i\n",
    "    \n",
    "    #Reading Images\n",
    "    img = cv2.imread(img)\n",
    "    \n",
    "    img = cv2.cvtColor(img,cv2.COLOR_BGR2RGB)\n",
    "    \n",
    "    #Changing to Greyscale\n",
    "    gray = cv2.cvtColor(img, cv2.COLOR_BGR2GRAY)\n",
    "    gray = cv2.medianBlur(gray, 1)\n",
    "    \n",
    "    #Getting edges from greyscale image\n",
    "    edges = cv2.adaptiveThreshold(gray, 255, cv2.ADAPTIVE_THRESH_MEAN_C, cv2.THRESH_BINARY, 15, 15)\n",
    "    \n",
    "    #Plotting the cartoon\n",
    "    color = cv2.bilateralFilter(img, 9, 30, 30)\n",
    "    cartoon = cv2.bitwise_and(color, color, mask=edges)\n",
    "    \n",
    "    plt.figure(figsize=(104.166667, 58.5937501875))\n",
    "\n",
    "    plt.imshow(cartoon, cmap=\"gray\")\n",
    "    plt.axis(\"off\")\n",
    "    \n",
    "    #Saving the cartoon\n",
    "    save_path = mypath+'cartoonize/'+i\n",
    "    print('Saved', i)\n",
    "    \n",
    "    plt.savefig(save_path, bbox_inches='tight')"
   ]
  },
  {
   "cell_type": "code",
   "execution_count": null,
   "id": "5db8d5fe",
   "metadata": {},
   "outputs": [],
   "source": []
  },
  {
   "cell_type": "code",
   "execution_count": null,
   "id": "17bd9685",
   "metadata": {},
   "outputs": [],
   "source": []
  }
 ],
 "metadata": {
  "kernelspec": {
   "display_name": "Python 3 (ipykernel)",
   "language": "python",
   "name": "python3"
  },
  "language_info": {
   "codemirror_mode": {
    "name": "ipython",
    "version": 3
   },
   "file_extension": ".py",
   "mimetype": "text/x-python",
   "name": "python",
   "nbconvert_exporter": "python",
   "pygments_lexer": "ipython3",
   "version": "3.9.7"
  }
 },
 "nbformat": 4,
 "nbformat_minor": 5
}
